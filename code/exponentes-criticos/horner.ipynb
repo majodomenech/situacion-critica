{
 "cells": [
  {
   "cell_type": "code",
   "execution_count": null,
   "id": "134baa11",
   "metadata": {},
   "outputs": [],
   "source": [
    "using Plots"
   ]
  },
  {
   "cell_type": "code",
   "execution_count": null,
   "id": "a3e18c47",
   "metadata": {},
   "outputs": [],
   "source": [
    "function horner(a,x)\n",
    "    r = 0.0\n",
    "    for i = length(a):-1:2\n",
    "       r = x*(a[i]+r)\n",
    "    end\n",
    "    return a[1]+r\n",
    "end"
   ]
  },
  {
   "cell_type": "code",
   "execution_count": null,
   "id": "adb42383",
   "metadata": {},
   "outputs": [],
   "source": [
    "a = [1,-4,2,1]\n",
    "p(x) = a[1]+a[2]*x+a[3]*x^2+a[4]*x^3"
   ]
  },
  {
   "cell_type": "code",
   "execution_count": null,
   "id": "f2e85d51",
   "metadata": {},
   "outputs": [],
   "source": [
    "plot()\n",
    "plot!(-5:0.01:5,p)\n",
    "plot!(-5:0.01:5,x->horner(a,x))"
   ]
  }
 ],
 "metadata": {
  "kernelspec": {
   "display_name": "Julia 1.9.3",
   "language": "julia",
   "name": "julia-1.9"
  },
  "language_info": {
   "file_extension": ".jl",
   "mimetype": "application/julia",
   "name": "julia",
   "version": "1.9.3"
  }
 },
 "nbformat": 4,
 "nbformat_minor": 5
}
