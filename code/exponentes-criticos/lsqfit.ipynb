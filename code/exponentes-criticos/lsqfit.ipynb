{
 "cells": [
  {
   "cell_type": "raw",
   "id": "e76c2cb1",
   "metadata": {},
   "source": [
    "using Pkg\n",
    "Pkg.add(\"Plots\")\n",
    "Pkg.add(\"LsqFit\")\n",
    "Pkg.add(\"Optim\")\n",
    "Pkg.add(\"ForwardDiff\")\n",
    "Pkg.add(\"Random\")\n",
    "Pkg.add(\"Statistics\")\n",
    "Pkg.add(\"LaTeXStrings\")"
   ]
  },
  {
   "cell_type": "code",
   "execution_count": null,
   "id": "4e865a52-a1b8-485b-b883-29129cb10a8a",
   "metadata": {},
   "outputs": [],
   "source": [
    "using Plots\n",
    "using LsqFit\n",
    "using ForwardDiff\n",
    "using Optim\n",
    "using Random\n",
    "using Statistics\n",
    "using LaTeXStrings"
   ]
  },
  {
   "cell_type": "code",
   "execution_count": null,
   "id": "0d873abf-320a-4d87-b60d-09a797e5842e",
   "metadata": {},
   "outputs": [],
   "source": [
    "function horner(x,a)\n",
    "    r = 0.0\n",
    "    for i = length(a):-1:2\n",
    "       r = x.*(a[i].+r)\n",
    "    end\n",
    "    return a[1].+r\n",
    "end"
   ]
  },
  {
   "cell_type": "code",
   "execution_count": null,
   "id": "ad26dcf8-5294-42f0-a70a-d9e2bb15b63b",
   "metadata": {},
   "outputs": [],
   "source": [
    "xrange = -5:0.01:5\n",
    "xdata = -5:1:5\n",
    "a_true = [-10,1,2]\n",
    "ydata = (x->horner(x,a_true)).(xdata);\n",
    "ynoise = 0.1*std(ydata)*randn(length(xdata))\n",
    "ydata += ynoise"
   ]
  },
  {
   "cell_type": "code",
   "execution_count": null,
   "id": "3d6923ff",
   "metadata": {},
   "outputs": [],
   "source": [
    "a0 = [1.0,1.0,1.0]\n",
    "fit = curve_fit(horner, xdata, ydata,a0)"
   ]
  },
  {
   "cell_type": "code",
   "execution_count": null,
   "id": "ee382713",
   "metadata": {},
   "outputs": [],
   "source": [
    "plot(xlabel=L\"x\",ylabel=L\"y\")\n",
    "scatter!(xdata,ydata,label=\"data\")\n",
    "plot!(xrange,x->horner(x,a_true),label=\"true\")\n",
    "plot!(xrange,x->horner(x,fit.param),label=\"fit\")"
   ]
  },
  {
   "cell_type": "code",
   "execution_count": null,
   "id": "402079d8",
   "metadata": {},
   "outputs": [],
   "source": []
  }
 ],
 "metadata": {
  "kernelspec": {
   "display_name": "Julia 1.9.2",
   "language": "julia",
   "name": "julia-1.9"
  },
  "language_info": {
   "file_extension": ".jl",
   "mimetype": "application/julia",
   "name": "julia",
   "version": "1.9.2"
  }
 },
 "nbformat": 4,
 "nbformat_minor": 5
}
