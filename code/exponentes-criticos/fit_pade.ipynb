{
 "cells": [
  {
   "cell_type": "code",
   "execution_count": 58,
   "id": "4e865a52-a1b8-485b-b883-29129cb10a8a",
   "metadata": {},
   "outputs": [],
   "source": [
    "using ForwardDiff\n",
    "using Plots\n",
    "using Optim"
   ]
  },
  {
   "cell_type": "code",
   "execution_count": 68,
   "id": "6a7e5d55-4f37-4214-827a-1cd8ea8cf23c",
   "metadata": {},
   "outputs": [
    {
     "data": {
      "text/plain": [
       "norm (generic function with 1 method)"
      ]
     },
     "execution_count": 68,
     "metadata": {},
     "output_type": "execute_result"
    }
   ],
   "source": [
    "function norm(a)\n",
    "    sqrt.(sum(a.^2))\n",
    "end"
   ]
  },
  {
   "cell_type": "code",
   "execution_count": 85,
   "id": "0d873abf-320a-4d87-b60d-09a797e5842e",
   "metadata": {},
   "outputs": [
    {
     "data": {
      "text/plain": [
       "horner (generic function with 1 method)"
      ]
     },
     "execution_count": 85,
     "metadata": {},
     "output_type": "execute_result"
    }
   ],
   "source": [
    "function horner(a,x)\n",
    "    r = 0.0\n",
    "    for i = length(a):-1:2\n",
    "       r = x*(a[i]+r)\n",
    "    end\n",
    "    return a[1]+r\n",
    "end"
   ]
  },
  {
   "cell_type": "code",
   "execution_count": 108,
   "id": "ad26dcf8-5294-42f0-a70a-d9e2bb15b63b",
   "metadata": {},
   "outputs": [],
   "source": [
    "xdata = collect(range(-10,10,10000))\n",
    "a = [-10,1,2]\n",
    "a0 = zeros(3)\n",
    "ydata = (x->horner(a,x)).(xdata);"
   ]
  },
  {
   "cell_type": "code",
   "execution_count": 109,
   "id": "c2799c0b-bf20-412e-aada-463cab896989",
   "metadata": {},
   "outputs": [
    {
     "data": {
      "text/plain": [
       "∇E (generic function with 1 method)"
      ]
     },
     "execution_count": 109,
     "metadata": {},
     "output_type": "execute_result"
    }
   ],
   "source": [
    "E(a) = sum(( ((xx->horner(a,xx)).(xdata)) - ydata).^2)\n",
    "∇E(a) = ForwardDiff.gradient(E,a)"
   ]
  },
  {
   "cell_type": "code",
   "execution_count": 120,
   "id": "56eb0faf-b9c2-4bc2-aa76-497e117bceb4",
   "metadata": {},
   "outputs": [
    {
     "data": {
      "text/plain": [
       "grad_descent (generic function with 2 methods)"
      ]
     },
     "execution_count": 120,
     "metadata": {},
     "output_type": "execute_result"
    }
   ],
   "source": [
    "function grad_descent(lr,a0,it=10000)\n",
    "    a = a0\n",
    "    i = 0\n",
    "    while i<it\n",
    "        grad = ∇E(a)\n",
    "        grad /= norm(grad)\n",
    "        a -= lr*grad\n",
    "        i += 1\n",
    "    end\n",
    "    a\n",
    "end"
   ]
  },
  {
   "cell_type": "code",
   "execution_count": 122,
   "id": "140affe6-dbfd-46bd-96d0-24cc6a7f7ff2",
   "metadata": {},
   "outputs": [
    {
     "data": {
      "text/plain": [
       "3-element Vector{Float64}:\n",
       " -9.881805283858665\n",
       "  0.9999999999999983\n",
       "  1.9480280088393882"
      ]
     },
     "execution_count": 122,
     "metadata": {},
     "output_type": "execute_result"
    }
   ],
   "source": [
    "grad_descent(0.1,a0)"
   ]
  }
 ],
 "metadata": {
  "kernelspec": {
   "display_name": "Julia 1.9.3",
   "language": "julia",
   "name": "julia-1.9"
  },
  "language_info": {
   "file_extension": ".jl",
   "mimetype": "application/julia",
   "name": "julia",
   "version": "1.9.3"
  }
 },
 "nbformat": 4,
 "nbformat_minor": 5
}
