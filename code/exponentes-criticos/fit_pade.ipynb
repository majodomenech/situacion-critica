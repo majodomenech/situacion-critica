{
 "cells": [
  {
   "cell_type": "code",
   "execution_count": 1,
   "id": "4e865a52-a1b8-485b-b883-29129cb10a8a",
   "metadata": {},
   "outputs": [],
   "source": [
    "using ForwardDiff\n",
    "using Plots\n",
    "using Random"
   ]
  },
  {
   "cell_type": "code",
   "execution_count": 2,
   "id": "6a7e5d55-4f37-4214-827a-1cd8ea8cf23c",
   "metadata": {},
   "outputs": [
    {
     "data": {
      "text/plain": [
       "norm (generic function with 1 method)"
      ]
     },
     "execution_count": 2,
     "metadata": {},
     "output_type": "execute_result"
    }
   ],
   "source": [
    "function norm(a)\n",
    "    sqrt.(sum(a.^2))\n",
    "end"
   ]
  },
  {
   "cell_type": "code",
   "execution_count": 3,
   "id": "0d873abf-320a-4d87-b60d-09a797e5842e",
   "metadata": {},
   "outputs": [
    {
     "data": {
      "text/plain": [
       "horner (generic function with 1 method)"
      ]
     },
     "execution_count": 3,
     "metadata": {},
     "output_type": "execute_result"
    }
   ],
   "source": [
    "function horner(a,x)\n",
    "    r = 0.0\n",
    "    for i = length(a):-1:2\n",
    "       r = x*(a[i]+r)\n",
    "    end\n",
    "    return a[1]+r\n",
    "end"
   ]
  },
  {
   "cell_type": "code",
   "execution_count": 4,
   "id": "ad26dcf8-5294-42f0-a70a-d9e2bb15b63b",
   "metadata": {},
   "outputs": [],
   "source": [
    "xdata = collect(range(-10,10,10000))\n",
    "a = [-10,1,2]\n",
    "a0 = zeros(3)\n",
    "ydata = (x->horner(a,x)).(xdata);"
   ]
  },
  {
   "cell_type": "code",
   "execution_count": 5,
   "id": "c2799c0b-bf20-412e-aada-463cab896989",
   "metadata": {},
   "outputs": [
    {
     "data": {
      "text/plain": [
       "∇E (generic function with 1 method)"
      ]
     },
     "execution_count": 5,
     "metadata": {},
     "output_type": "execute_result"
    }
   ],
   "source": [
    "E(a) = sum(( ((xx->horner(a,xx)).(xdata)) - ydata).^2)\n",
    "∇E(a) = ForwardDiff.gradient(E,a)"
   ]
  },
  {
   "cell_type": "code",
   "execution_count": 6,
   "id": "56eb0faf-b9c2-4bc2-aa76-497e117bceb4",
   "metadata": {},
   "outputs": [
    {
     "data": {
      "text/plain": [
       "grad_descent (generic function with 2 methods)"
      ]
     },
     "execution_count": 6,
     "metadata": {},
     "output_type": "execute_result"
    }
   ],
   "source": [
    "function grad_descent(lr,a0,it=10000)\n",
    "    a = a0\n",
    "    i = 0\n",
    "    while i<it\n",
    "        grad = ∇E(a)\n",
    "        grad /= norm(grad)\n",
    "        a -= lr*grad\n",
    "        i += 1\n",
    "    end\n",
    "    a\n",
    "end"
   ]
  },
  {
   "cell_type": "code",
   "execution_count": 7,
   "id": "140affe6-dbfd-46bd-96d0-24cc6a7f7ff2",
   "metadata": {},
   "outputs": [
    {
     "data": {
      "text/plain": [
       "3-element Vector{Float64}:\n",
       " -9.881805283858665\n",
       "  0.9999999999999983\n",
       "  1.9480280088393882"
      ]
     },
     "execution_count": 7,
     "metadata": {},
     "output_type": "execute_result"
    }
   ],
   "source": [
    "grad_descent(0.1,a0)"
   ]
  },
  {
   "cell_type": "markdown",
   "id": "b33ece22-01f3-4ccb-87fa-43175d41648b",
   "metadata": {},
   "source": [
    "# Optimizador Adam"
   ]
  },
  {
   "cell_type": "code",
   "execution_count": 23,
   "id": "597e6624-0906-4651-be0b-75a393674115",
   "metadata": {},
   "outputs": [
    {
     "data": {
      "text/plain": [
       "adam_optimizer"
      ]
     },
     "execution_count": 23,
     "metadata": {},
     "output_type": "execute_result"
    }
   ],
   "source": [
    "\"\"\"\n",
    "Optimizador Adam, tal como está descrito en https://arxiv.org/abs/1412.6980\n",
    "\n",
    "Los parámetros son α, β1 y β2 y ϵ que por defecto son los sugeridos en el paper:\n",
    "    α = 1e-4\n",
    "    β1 = 0.9\n",
    "    β2 = 0.999\n",
    "    ϵ = 1e-8\n",
    "\"\"\"\n",
    "function adam_optimizer(a0,α=1e-4,β1=0.9,β2=0.999,tolerance=1e-6,ϵ=1e-8)\n",
    "    a = a0\n",
    "    t = 1\n",
    "    \n",
    "    m = zeros(length(a0))\n",
    "    v = zeros(length(a0))\n",
    "    \n",
    "    e0 = E(a)\n",
    "    Δe = e0\n",
    "\n",
    "    while Δe > tolerance\n",
    "        grad = ∇E(a)\n",
    "        \n",
    "        m = (β1 * m) + (1-β1)*grad\n",
    "        v = (β2 * v) + (1-β2)*(grad .^ 2)\n",
    "        \n",
    "        m_ = m/(1-β1^t)\n",
    "        v_ = v/(1-β2^t)\n",
    "        \n",
    "        Δa = α * (m_./(sqrt.(v_) .+ ϵ))\n",
    "        \n",
    "        a -= Δa\n",
    "        t += 1\n",
    "        \n",
    "        e1 = E(a)\n",
    "       \n",
    "        Δe = abs(e1 - e0)\n",
    "        e0 = e1\n",
    "    end\n",
    "    println(\"The optimization has converged. Total iterations: $t\")\n",
    "    a\n",
    "end"
   ]
  },
  {
   "cell_type": "code",
   "execution_count": 24,
   "id": "2ba55bbc-7368-4959-a2d5-98e17f54efc1",
   "metadata": {},
   "outputs": [
    {
     "name": "stdout",
     "output_type": "stream",
     "text": [
      "The optimization has converged. Total iterations: 24207\n",
      " 11.978742 seconds (1.69 M allocations: 27.111 GiB, 6.81% gc time, 0.50% compilation time)\n"
     ]
    },
    {
     "data": {
      "text/plain": [
       "3-element Vector{Float64}:\n",
       " 0.9888725479561656\n",
       " 0.9999999999999997\n",
       " 1.816439836674675"
      ]
     },
     "execution_count": 24,
     "metadata": {},
     "output_type": "execute_result"
    }
   ],
   "source": [
    "@time adam_optimizer(a0)"
   ]
  }
 ],
 "metadata": {
  "kernelspec": {
   "display_name": "Julia 1.9.3",
   "language": "julia",
   "name": "julia-1.9"
  },
  "language_info": {
   "file_extension": ".jl",
   "mimetype": "application/julia",
   "name": "julia",
   "version": "1.9.3"
  }
 },
 "nbformat": 4,
 "nbformat_minor": 5
}
