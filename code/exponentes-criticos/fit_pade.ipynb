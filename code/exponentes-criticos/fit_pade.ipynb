{
 "cells": [
  {
   "cell_type": "code",
   "execution_count": 50,
   "id": "4e865a52-a1b8-485b-b883-29129cb10a8a",
   "metadata": {},
   "outputs": [],
   "source": [
    "using ForwardDiff\n",
    "using Plots\n",
    "using Random\n",
    "\n",
    "using ProgressMeter"
   ]
  },
  {
   "cell_type": "code",
   "execution_count": 51,
   "id": "6a7e5d55-4f37-4214-827a-1cd8ea8cf23c",
   "metadata": {},
   "outputs": [
    {
     "data": {
      "text/plain": [
       "norm (generic function with 1 method)"
      ]
     },
     "execution_count": 51,
     "metadata": {},
     "output_type": "execute_result"
    }
   ],
   "source": [
    "function norm(a)\n",
    "    sqrt.(sum(a.^2))\n",
    "end"
   ]
  },
  {
   "cell_type": "code",
   "execution_count": 52,
   "id": "0d873abf-320a-4d87-b60d-09a797e5842e",
   "metadata": {},
   "outputs": [
    {
     "data": {
      "text/plain": [
       "horner (generic function with 1 method)"
      ]
     },
     "execution_count": 52,
     "metadata": {},
     "output_type": "execute_result"
    }
   ],
   "source": [
    "function horner(a,x)\n",
    "    r = 0.0\n",
    "    for i = length(a):-1:2\n",
    "       r = x*(a[i]+r)\n",
    "    end\n",
    "    return a[1]+r\n",
    "end"
   ]
  },
  {
   "cell_type": "code",
   "execution_count": 53,
   "id": "61ad1e23-e95b-4349-88d9-26413fc83b9e",
   "metadata": {},
   "outputs": [
    {
     "data": {
      "text/plain": [
       "hornerb (generic function with 1 method)"
      ]
     },
     "execution_count": 53,
     "metadata": {},
     "output_type": "execute_result"
    }
   ],
   "source": [
    "function hornerb(b,x)\n",
    "    r = 0.0\n",
    "    for i = length(b):-1:1\n",
    "       r = x*(b[i]+r)\n",
    "    end\n",
    "    return 1+r\n",
    "end"
   ]
  },
  {
   "cell_type": "code",
   "execution_count": 54,
   "id": "788062f1-e6c0-4cfe-9c9c-efa31c46b891",
   "metadata": {},
   "outputs": [
    {
     "data": {
      "text/plain": [
       "6-element Vector{Int64}:\n",
       " -10\n",
       "   1\n",
       "   2\n",
       "   1\n",
       "   4\n",
       "  -1"
      ]
     },
     "execution_count": 54,
     "metadata": {},
     "output_type": "execute_result"
    }
   ],
   "source": [
    "a = [-10,1,2]\n",
    "b = [1,4,-1]\n",
    "\n",
    "p = vcat(a,b)"
   ]
  },
  {
   "cell_type": "code",
   "execution_count": 55,
   "id": "9ad02506-6bf8-44ca-87ab-bc161e3e554b",
   "metadata": {},
   "outputs": [
    {
     "data": {
      "text/plain": [
       "pade (generic function with 1 method)"
      ]
     },
     "execution_count": 55,
     "metadata": {},
     "output_type": "execute_result"
    }
   ],
   "source": [
    "a = [-10,1,2]\n",
    "b = [1,4,-1]\n",
    "\n",
    "p = vcat(a,b)\n",
    "\n",
    "pade(p,x) = horner(p[1:length(a)],x)/hornerb(p[length(a)+1:end],x)"
   ]
  },
  {
   "cell_type": "code",
   "execution_count": 56,
   "id": "ad26dcf8-5294-42f0-a70a-d9e2bb15b63b",
   "metadata": {},
   "outputs": [],
   "source": [
    "xdata = collect(range(-10,10,10000))\n",
    "a = [-10,1,2]\n",
    "a0 = zeros(3)\n",
    "ydata = (x->pade(p,x)).(xdata);"
   ]
  },
  {
   "cell_type": "code",
   "execution_count": 57,
   "id": "c2799c0b-bf20-412e-aada-463cab896989",
   "metadata": {},
   "outputs": [
    {
     "data": {
      "text/plain": [
       "∇E (generic function with 1 method)"
      ]
     },
     "execution_count": 57,
     "metadata": {},
     "output_type": "execute_result"
    }
   ],
   "source": [
    "E(p) = sum(( ((xx->pade(p,xx)).(xdata)) - ydata).^2)\n",
    "∇E(p) = ForwardDiff.gradient(E,p)"
   ]
  },
  {
   "cell_type": "code",
   "execution_count": 58,
   "id": "56eb0faf-b9c2-4bc2-aa76-497e117bceb4",
   "metadata": {},
   "outputs": [
    {
     "data": {
      "text/plain": [
       "grad_descent (generic function with 2 methods)"
      ]
     },
     "execution_count": 58,
     "metadata": {},
     "output_type": "execute_result"
    }
   ],
   "source": [
    "function grad_descent(lr,p0,it=1000)\n",
    "    p = p0\n",
    "    i = 0\n",
    "    @showprogress for i in 1:it\n",
    "        grad = ∇E(p)\n",
    "        grad /= norm(grad)\n",
    "        p -= lr*grad\n",
    "        i += 1\n",
    "    end\n",
    "    p\n",
    "end"
   ]
  },
  {
   "cell_type": "code",
   "execution_count": 59,
   "id": "6745fd19-4e29-4f0f-91b9-efb95462f417",
   "metadata": {},
   "outputs": [
    {
     "data": {
      "text/plain": [
       "6-element Vector{Float64}:\n",
       " 0.0\n",
       " 0.0\n",
       " 0.0\n",
       " 0.0\n",
       " 0.0\n",
       " 0.0"
      ]
     },
     "execution_count": 59,
     "metadata": {},
     "output_type": "execute_result"
    }
   ],
   "source": [
    "p0 = zeros(length(p))"
   ]
  },
  {
   "cell_type": "code",
   "execution_count": 60,
   "id": "140affe6-dbfd-46bd-96d0-24cc6a7f7ff2",
   "metadata": {},
   "outputs": [
    {
     "name": "stderr",
     "output_type": "stream",
     "text": [
      "\u001b[32mProgress: 100%|█████████████████████████████████████████| Time: 0:00:07\u001b[39m\n"
     ]
    },
    {
     "data": {
      "text/plain": [
       "6-element Vector{Float64}:\n",
       " -0.1215364177643715\n",
       "  0.13610078043021828\n",
       "  0.10031640750173418\n",
       " -0.028841544189772614\n",
       " -0.06505255150391269\n",
       "  0.10995139354637967"
      ]
     },
     "execution_count": 60,
     "metadata": {},
     "output_type": "execute_result"
    }
   ],
   "source": [
    "grad_descent(0.01,p0)"
   ]
  },
  {
   "cell_type": "markdown",
   "id": "b33ece22-01f3-4ccb-87fa-43175d41648b",
   "metadata": {},
   "source": [
    "# Optimizador Adam"
   ]
  },
  {
   "cell_type": "code",
   "execution_count": 68,
   "id": "597e6624-0906-4651-be0b-75a393674115",
   "metadata": {},
   "outputs": [
    {
     "data": {
      "text/plain": [
       "adam_optimizer"
      ]
     },
     "execution_count": 68,
     "metadata": {},
     "output_type": "execute_result"
    }
   ],
   "source": [
    "\"\"\"\n",
    "Optimizador Adam, tal como está descrito en https://arxiv.org/abs/1412.6980\n",
    "\n",
    "Los parámetros son α, β1 y β2 y ϵ que por defecto son los sugeridos en el paper:\n",
    "    α = 1e-4\n",
    "    β1 = 0.9\n",
    "    β2 = 0.999\n",
    "    ϵ = 1e-8\n",
    "\"\"\"\n",
    "function adam_optimizer(p0,α=1e-4,β1=0.9,β2=0.999,tolerance=1e-2,ϵ=1e-8)\n",
    "    p = p0\n",
    "    t = 1\n",
    "    \n",
    "    m = zeros(length(p0))\n",
    "    v = zeros(length(p0))\n",
    "    \n",
    "    e0 = E(p)\n",
    "    Δe = e0\n",
    "\n",
    "    while Δe > tolerance\n",
    "        grad = ∇E(p)\n",
    "        \n",
    "        m = (β1 * m) + (1-β1)*grad\n",
    "        v = (β2 * v) + (1-β2)*(grad .^ 2)\n",
    "        \n",
    "        m_ = m/(1-β1^t)\n",
    "        v_ = v/(1-β2^t)\n",
    "        \n",
    "        Δp = α * (m_./(sqrt.(v_) .+ ϵ))\n",
    "        \n",
    "        p-= Δp\n",
    "        t += 1\n",
    "        \n",
    "        e1 = E(p)\n",
    "       \n",
    "        Δe = abs(e1 - e0)\n",
    "        e0 = e1\n",
    "    end\n",
    "    println(\"The optimization has converged. Total iterations: $t\")\n",
    "    p\n",
    "end"
   ]
  },
  {
   "cell_type": "code",
   "execution_count": 69,
   "id": "2ba55bbc-7368-4959-a2d5-98e17f54efc1",
   "metadata": {},
   "outputs": [
    {
     "name": "stdout",
     "output_type": "stream",
     "text": [
      "The optimization has converged. Total iterations: 14749\n",
      "187.892910 seconds (2.66 G allocations: 169.309 GiB, 15.33% gc time, 0.03% compilation time)\n"
     ]
    },
    {
     "data": {
      "text/plain": [
       "6-element Vector{Float64}:\n",
       "  0.6549850578744707\n",
       "  0.04490362967158043\n",
       " -0.050003553123609476\n",
       " -0.3538141384169031\n",
       " -0.0034475316650003675\n",
       " -0.005038108104143555"
      ]
     },
     "execution_count": 69,
     "metadata": {},
     "output_type": "execute_result"
    }
   ],
   "source": [
    "@time adam_optimizer(p0)"
   ]
  }
 ],
 "metadata": {
  "kernelspec": {
   "display_name": "Julia 1.9.3",
   "language": "julia",
   "name": "julia-1.9"
  },
  "language_info": {
   "file_extension": ".jl",
   "mimetype": "application/julia",
   "name": "julia",
   "version": "1.9.3"
  }
 },
 "nbformat": 4,
 "nbformat_minor": 5
}
